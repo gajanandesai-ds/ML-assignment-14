{
 "cells": [
  {
   "cell_type": "raw",
   "id": "3365f3c4",
   "metadata": {},
   "source": [
    "1. What is the concept of supervised learning? What is the significance of the name?"
   ]
  },
  {
   "cell_type": "raw",
   "id": "f7433ce6",
   "metadata": {},
   "source": [
    "ans:\n",
    "Supervised learning, also known as supervised machine learning, is a subcategory of machine learning and artificial intelligence. It is defined by its use of labeled datasets to train algorithms that to classify data or predict outcomes accurately."
   ]
  },
  {
   "cell_type": "code",
   "execution_count": null,
   "id": "f9316301",
   "metadata": {},
   "outputs": [],
   "source": []
  },
  {
   "cell_type": "code",
   "execution_count": null,
   "id": "e1e19e30",
   "metadata": {},
   "outputs": [],
   "source": []
  },
  {
   "cell_type": "raw",
   "id": "22303175",
   "metadata": {},
   "source": [
    "2. In the hospital sector, offer an example of supervised learning."
   ]
  },
  {
   "cell_type": "raw",
   "id": "3533f890",
   "metadata": {},
   "source": [
    "ans:\n",
    "Supervised learning uses a training set to teach models to yield the desired output. This training dataset includes inputs and correct outputs, which allow the model to learn over time. The algorithm measures its accuracy through the loss function, adjusting until the error has been sufficiently minimized."
   ]
  },
  {
   "cell_type": "code",
   "execution_count": null,
   "id": "280f98cd",
   "metadata": {},
   "outputs": [],
   "source": []
  },
  {
   "cell_type": "code",
   "execution_count": null,
   "id": "7cf27150",
   "metadata": {},
   "outputs": [],
   "source": []
  },
  {
   "cell_type": "raw",
   "id": "34ba63bc",
   "metadata": {},
   "source": [
    "3. Give three supervised learning examples."
   ]
  },
  {
   "cell_type": "raw",
   "id": "77274a5b",
   "metadata": {},
   "source": [
    "ans:\n",
    "Example of Supervised Learning Algorithms are:\n",
    "\n",
    "1.Linear Regression.\n",
    "2.Nearest Neighbor.\n",
    "3.Gaussian Naive Bayes.\n",
    "4.Decision Trees.\n",
    "5.Support Vector Machine (SVM)\n",
    "6.Random Forest."
   ]
  },
  {
   "cell_type": "code",
   "execution_count": null,
   "id": "6020a198",
   "metadata": {},
   "outputs": [],
   "source": []
  },
  {
   "cell_type": "code",
   "execution_count": null,
   "id": "c5090e24",
   "metadata": {},
   "outputs": [],
   "source": []
  },
  {
   "cell_type": "raw",
   "id": "f7db677d",
   "metadata": {},
   "source": [
    "4. In supervised learning, what are classification and regression?"
   ]
  },
  {
   "cell_type": "raw",
   "id": "a8f8f998",
   "metadata": {},
   "source": [
    "ans: \n",
    "Fundamentally, classification is about predicting a label and regression is about predicting a quantity. That classification is the problem of predicting a discrete class label output for an example. That regression is the problem of predicting a continuous quantity output for an example."
   ]
  },
  {
   "cell_type": "code",
   "execution_count": null,
   "id": "35e6f282",
   "metadata": {},
   "outputs": [],
   "source": []
  },
  {
   "cell_type": "code",
   "execution_count": null,
   "id": "f486cec2",
   "metadata": {},
   "outputs": [],
   "source": []
  },
  {
   "cell_type": "raw",
   "id": "246ca20e",
   "metadata": {},
   "source": [
    "5. Give some popular classification algorithms as examples."
   ]
  },
  {
   "cell_type": "raw",
   "id": "b11cd758",
   "metadata": {},
   "source": [
    "ans:\n",
    "Popular algorithms that can be used for multi-class classification include:\n",
    "\n",
    "1.k-Nearest Neighbors\n",
    "2.Decision Trees.\n",
    "3.Naive Bayes"
   ]
  },
  {
   "cell_type": "code",
   "execution_count": null,
   "id": "aac5736e",
   "metadata": {},
   "outputs": [],
   "source": []
  },
  {
   "cell_type": "code",
   "execution_count": null,
   "id": "6d9767e2",
   "metadata": {},
   "outputs": [],
   "source": []
  },
  {
   "cell_type": "raw",
   "id": "108f85c6",
   "metadata": {},
   "source": [
    "6. Briefly describe the SVM model."
   ]
  },
  {
   "cell_type": "raw",
   "id": "61796fd3",
   "metadata": {},
   "source": [
    "ans:\n",
    "A support vector machine (SVM) is a supervised machine learning model that uses classification algorithms for two-group classification problems. After giving an SVM model sets of labeled training data for each category, they're able to categorize new text."
   ]
  },
  {
   "cell_type": "code",
   "execution_count": null,
   "id": "8cc0429f",
   "metadata": {},
   "outputs": [],
   "source": []
  },
  {
   "cell_type": "code",
   "execution_count": null,
   "id": "b0a6183a",
   "metadata": {},
   "outputs": [],
   "source": []
  },
  {
   "cell_type": "raw",
   "id": "9732378a",
   "metadata": {},
   "source": [
    "7. In SVM, what is the cost of misclassification?"
   ]
  },
  {
   "cell_type": "raw",
   "id": "fa1af021",
   "metadata": {},
   "source": [
    "ans:\n",
    "In cost-sensitive learning instead of each instance being either correctly or incorrectly classified, each class (or instance) is given a misclassification cost. Thus, instead of trying to optimize the accuracy, the problem is then to minimize the total misclassification cost."
   ]
  },
  {
   "cell_type": "code",
   "execution_count": null,
   "id": "411c6e2d",
   "metadata": {},
   "outputs": [],
   "source": []
  },
  {
   "cell_type": "code",
   "execution_count": null,
   "id": "da37a456",
   "metadata": {},
   "outputs": [],
   "source": []
  },
  {
   "cell_type": "raw",
   "id": "e63dbf5c",
   "metadata": {},
   "source": [
    "8. In the SVM model, define Support Vectors."
   ]
  },
  {
   "cell_type": "raw",
   "id": "40fb7b9d",
   "metadata": {},
   "source": [
    "ans:\n",
    "Support vectors are data points that are closer to the hyperplane and influence the position and orientation of the hyperplane. Using these support vectors, we maximize the margin of the classifier. Deleting the support vectors will change the position of the hyperplane. These are the points that help us build our SVM."
   ]
  },
  {
   "cell_type": "code",
   "execution_count": null,
   "id": "b268716d",
   "metadata": {},
   "outputs": [],
   "source": []
  },
  {
   "cell_type": "code",
   "execution_count": null,
   "id": "26dd2031",
   "metadata": {},
   "outputs": [],
   "source": []
  },
  {
   "cell_type": "raw",
   "id": "7f085fb4",
   "metadata": {},
   "source": [
    "9. In the SVM model, define the kernel."
   ]
  },
  {
   "cell_type": "raw",
   "id": "b0b75856",
   "metadata": {},
   "source": [
    "ans:\n",
    "SVM algorithms use a set of mathematical functions that are defined as the kernel. The function of kernel is to take data as input and transform it into the required form. These functions can be different types. For example linear, nonlinear, polynomial, radial basis function (RBF), and sigmoid."
   ]
  },
  {
   "cell_type": "code",
   "execution_count": null,
   "id": "2482733b",
   "metadata": {},
   "outputs": [],
   "source": []
  },
  {
   "cell_type": "code",
   "execution_count": null,
   "id": "41b5536c",
   "metadata": {},
   "outputs": [],
   "source": []
  },
  {
   "cell_type": "raw",
   "id": "d4964335",
   "metadata": {},
   "source": [
    "10. What are the factors that influence SVM&#39;s effectiveness?"
   ]
  },
  {
   "cell_type": "raw",
   "id": "e07021d2",
   "metadata": {},
   "source": [
    "ans:\n",
    "SVM or Support Vector Machine is a linear model for classification and regression problems. It can solve linear and non-linear problems and work well for many practical problems. The idea of SVM is simple: The algorithm creates a line or a hyperplane which separates the data into classes."
   ]
  },
  {
   "cell_type": "code",
   "execution_count": null,
   "id": "794cc28f",
   "metadata": {},
   "outputs": [],
   "source": []
  },
  {
   "cell_type": "code",
   "execution_count": null,
   "id": "c352c2f7",
   "metadata": {},
   "outputs": [],
   "source": []
  },
  {
   "cell_type": "raw",
   "id": "51a6c65a",
   "metadata": {},
   "source": [
    "11. What are the benefits of using the SVM model?"
   ]
  },
  {
   "cell_type": "raw",
   "id": "274eef1e",
   "metadata": {},
   "source": [
    "ans:\n",
    "SVM works relatively well when there is a clear margin of separation between classes. SVM is more effective in high dimensional spaces. SVM is effective in cases where the number of dimensions is greater than the number of samples.SVM is relatively memory efficient."
   ]
  },
  {
   "cell_type": "code",
   "execution_count": null,
   "id": "ba4097a4",
   "metadata": {},
   "outputs": [],
   "source": []
  },
  {
   "cell_type": "code",
   "execution_count": null,
   "id": "c5cbc3d2",
   "metadata": {},
   "outputs": [],
   "source": []
  },
  {
   "cell_type": "raw",
   "id": "ab20d40c",
   "metadata": {},
   "source": [
    "12. What are the drawbacks of using the SVM model?"
   ]
  },
  {
   "cell_type": "raw",
   "id": "d54ae8fd",
   "metadata": {},
   "source": [
    "ans:\n",
    "SVM algorithm is not suitable for large data sets. SVM does not perform very well when the data set has more noise i.e. target classes are overlapping. In cases where the number of features for each data point exceeds the number of training data samples, the SVM will underperform."
   ]
  },
  {
   "cell_type": "code",
   "execution_count": null,
   "id": "28489fa9",
   "metadata": {},
   "outputs": [],
   "source": []
  },
  {
   "cell_type": "code",
   "execution_count": null,
   "id": "78fc9e7f",
   "metadata": {},
   "outputs": [],
   "source": []
  },
  {
   "cell_type": "raw",
   "id": "8c939f8f",
   "metadata": {},
   "source": [
    "13. Notes should be written on\n",
    "\n",
    "1. The kNN algorithm has a validation flaw.\n",
    "\n",
    "2. In the kNN algorithm, the k value is chosen.\n",
    "\n",
    "3. A decision tree with inductive bias"
   ]
  },
  {
   "cell_type": "raw",
   "id": "5bad26e4",
   "metadata": {},
   "source": [
    "ans:\n",
    "The Short notes on below topics is:\n",
    "\n",
    ">>The kNN algorithm has a validation flaw.\n",
    "The relatively low accuracy of kNN is caused by several factors. One of them is that every characteristic of the method has the same result on calculating distance. The solution of this problem is to give weight to each data characteristic.\n",
    "\n",
    ">>In the kNN algorithm, the k value is chosen.\n",
    "The optimal K value usually found is the square root of N, where N is the total number of samples. Use an error plot or accuracy plot to find the most favorable K value. KNN performs well with multi-label classes, but you must be aware of the outliers.\n",
    "\n",
    ">>A decision tree with inductive bias\n",
    "Shorter trees are preferred over longer ones. Trees that place high information gain attributes close to the root are preferred over those that do not."
   ]
  },
  {
   "cell_type": "code",
   "execution_count": null,
   "id": "b1e4a37e",
   "metadata": {},
   "outputs": [],
   "source": []
  },
  {
   "cell_type": "code",
   "execution_count": null,
   "id": "62bb760e",
   "metadata": {},
   "outputs": [],
   "source": []
  },
  {
   "cell_type": "raw",
   "id": "17f90109",
   "metadata": {},
   "source": [
    "14. What are some of the benefits of the kNN algorithm?"
   ]
  },
  {
   "cell_type": "raw",
   "id": "81571d72",
   "metadata": {},
   "source": [
    "ans:\n",
    "Some Advantages of KNN are:\n",
    "\n",
    ">>Quick calculation time.\n",
    ">>Simple algorithm – to interpret.\n",
    ">>Versatile – useful for regression and classification.\n",
    ">>High accuracy – you do not need to compare with better-supervised learning models."
   ]
  },
  {
   "cell_type": "code",
   "execution_count": null,
   "id": "19b05b54",
   "metadata": {},
   "outputs": [],
   "source": []
  },
  {
   "cell_type": "code",
   "execution_count": null,
   "id": "9e7ed91f",
   "metadata": {},
   "outputs": [],
   "source": []
  },
  {
   "cell_type": "raw",
   "id": "0a3b9b35",
   "metadata": {},
   "source": [
    "15. What are some of the kNN algorithm&#39;s drawbacks?"
   ]
  },
  {
   "cell_type": "raw",
   "id": "094d270d",
   "metadata": {},
   "source": [
    "ans:\n",
    "Some Disadvantages of KNN are:\n",
    "\n",
    ">>Accuracy depends on the quality of the data.\n",
    ">>With large data, the prediction stage might be slow.\n",
    ">>Sensitive to the scale of the data and irrelevant features.\n",
    ">>Require high memory – need to store all of the training data.\n",
    ">>Given that it stores all of the training, it can be computationally expensive."
   ]
  },
  {
   "cell_type": "code",
   "execution_count": null,
   "id": "deddd5b6",
   "metadata": {},
   "outputs": [],
   "source": []
  },
  {
   "cell_type": "code",
   "execution_count": null,
   "id": "41fc6431",
   "metadata": {},
   "outputs": [],
   "source": []
  },
  {
   "cell_type": "raw",
   "id": "3c96ae9a",
   "metadata": {},
   "source": [
    "16. Explain the decision tree algorithm in a few words."
   ]
  },
  {
   "cell_type": "raw",
   "id": "d5eef038",
   "metadata": {},
   "source": [
    "ans:\n",
    "A decision tree is a graphical representation of all the possible solutions to a decision based on certain conditions. Tree models where the target variable can take a finite set of values are called classification trees and target variable can take continuous values (numbers) are called regression trees."
   ]
  },
  {
   "cell_type": "code",
   "execution_count": null,
   "id": "3a35a6b1",
   "metadata": {},
   "outputs": [],
   "source": []
  },
  {
   "cell_type": "code",
   "execution_count": null,
   "id": "97513e38",
   "metadata": {},
   "outputs": [],
   "source": []
  },
  {
   "cell_type": "raw",
   "id": "4424d8b2",
   "metadata": {},
   "source": [
    "17. What is the difference between a node and a leaf in a decision tree?"
   ]
  },
  {
   "cell_type": "raw",
   "id": "cc656076",
   "metadata": {},
   "source": [
    "ans:\n",
    "A decision tree is a flowchart-like structure in which each internal node represents a \"test\" on an attribute (e.g. whether a coin flip comes up heads or tails), each branch represents the outcome of the test, and each leaf node represents a class label (decision taken after computing all attributes)."
   ]
  },
  {
   "cell_type": "code",
   "execution_count": null,
   "id": "4b5a2922",
   "metadata": {},
   "outputs": [],
   "source": []
  },
  {
   "cell_type": "code",
   "execution_count": null,
   "id": "12a0d24f",
   "metadata": {},
   "outputs": [],
   "source": []
  },
  {
   "cell_type": "raw",
   "id": "756a9356",
   "metadata": {},
   "source": [
    "18. What is a decision tree&#39;s entropy?"
   ]
  },
  {
   "cell_type": "raw",
   "id": "320238be",
   "metadata": {},
   "source": [
    "ans:\n",
    "Entropy helps us to build an appropriate decision tree for selecting the best splitter. Entropy can be defined as a measure of the purity of the sub split. Entropy always lies between 0 to 1. The entropy of any split can be calculate by this formula."
   ]
  },
  {
   "cell_type": "code",
   "execution_count": null,
   "id": "392ce0aa",
   "metadata": {},
   "outputs": [],
   "source": []
  },
  {
   "cell_type": "code",
   "execution_count": null,
   "id": "68faf99e",
   "metadata": {},
   "outputs": [],
   "source": []
  },
  {
   "cell_type": "raw",
   "id": "f9361adc",
   "metadata": {},
   "source": [
    "19. In a decision tree, define knowledge gain."
   ]
  },
  {
   "cell_type": "raw",
   "id": "4d01fea1",
   "metadata": {},
   "source": [
    "ans:\n",
    "Information gain is the reduction in entropy or surprise by transforming a dataset and is often used in training decision trees.Information gain is calculated by comparing the entropy of the dataset before and after a transformation."
   ]
  },
  {
   "cell_type": "code",
   "execution_count": null,
   "id": "6b17791e",
   "metadata": {},
   "outputs": [],
   "source": []
  },
  {
   "cell_type": "code",
   "execution_count": null,
   "id": "bc6d188a",
   "metadata": {},
   "outputs": [],
   "source": []
  },
  {
   "cell_type": "raw",
   "id": "8883271d",
   "metadata": {},
   "source": [
    "20.Choose three advantages of the decision tree approach and write them down."
   ]
  },
  {
   "cell_type": "raw",
   "id": "29b7481f",
   "metadata": {},
   "source": [
    "ans:\n",
    "Advantages of Decision Trees :\n",
    "\n",
    ">>Easy to read and interpret. One of the advantages of decision trees is that their outputs are easy to read and interpret without requiring statistical knowledge.\n",
    ">>Easy to prepare.\n",
    ">>Less data cleaning required."
   ]
  },
  {
   "cell_type": "code",
   "execution_count": null,
   "id": "6806e634",
   "metadata": {},
   "outputs": [],
   "source": []
  },
  {
   "cell_type": "code",
   "execution_count": null,
   "id": "9ed65c32",
   "metadata": {},
   "outputs": [],
   "source": []
  },
  {
   "cell_type": "raw",
   "id": "edb4ea2f",
   "metadata": {},
   "source": [
    "21. Make a list of three flaws in the decision tree process."
   ]
  },
  {
   "cell_type": "raw",
   "id": "74c2020d",
   "metadata": {},
   "source": [
    "ans:\n",
    "Issues in Decision Tree Learning :\n",
    "\n",
    ">> Overfitting the data.\n",
    ">> Guarding against bad attribute choices.\n",
    ">> Handling continuous valued attributes.\n",
    ">> Handling missing attribute values.\n",
    ">> Handling attributes with differing costs."
   ]
  },
  {
   "cell_type": "code",
   "execution_count": null,
   "id": "7b974da3",
   "metadata": {},
   "outputs": [],
   "source": []
  },
  {
   "cell_type": "code",
   "execution_count": null,
   "id": "ca4e24b9",
   "metadata": {},
   "outputs": [],
   "source": []
  },
  {
   "cell_type": "raw",
   "id": "8d8ca4da",
   "metadata": {},
   "source": [
    "22. Briefly describe the random forest model."
   ]
  },
  {
   "cell_type": "raw",
   "id": "1743af3e",
   "metadata": {},
   "source": [
    "ans:\n",
    "The random forest is a classification algorithm consisting of many decisions trees. It uses bagging and feature randomness when building each individual tree to try to create an uncorrelated forest of trees whose prediction by committee is more accurate than that of any individual tree."
   ]
  },
  {
   "cell_type": "code",
   "execution_count": null,
   "id": "79690f18",
   "metadata": {},
   "outputs": [],
   "source": []
  }
 ],
 "metadata": {
  "kernelspec": {
   "display_name": "Python 3",
   "language": "python",
   "name": "python3"
  },
  "language_info": {
   "codemirror_mode": {
    "name": "ipython",
    "version": 3
   },
   "file_extension": ".py",
   "mimetype": "text/x-python",
   "name": "python",
   "nbconvert_exporter": "python",
   "pygments_lexer": "ipython3",
   "version": "3.8.8"
  }
 },
 "nbformat": 4,
 "nbformat_minor": 5
}
